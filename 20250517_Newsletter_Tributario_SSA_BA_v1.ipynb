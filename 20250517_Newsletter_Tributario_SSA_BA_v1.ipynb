{
  "nbformat": 4,
  "nbformat_minor": 0,
  "metadata": {
    "colab": {
      "provenance": [],
      "include_colab_link": true
    },
    "kernelspec": {
      "name": "python3",
      "display_name": "Python 3"
    },
    "language_info": {
      "name": "python"
    }
  },
  "cells": [
    {
      "cell_type": "markdown",
      "metadata": {
        "id": "view-in-github",
        "colab_type": "text"
      },
      "source": [
        "<a href=\"https://colab.research.google.com/github/e-csousa/newsletter-tributario/blob/main/20250517_Newsletter_Tributario_SSA_BA_v1.ipynb\" target=\"_parent\"><img src=\"https://colab.research.google.com/assets/colab-badge.svg\" alt=\"Open In Colab\"/></a>"
      ]
    },
    {
      "cell_type": "markdown",
      "source": [
        "❗\n",
        "👽\n",
        "❗\n",
        "# AGENTES\n",
        "---\n",
        "---\n",
        "Projeto de um *Assistente de Pesquisa* para um tópico escolhido pelo usuário da IA que vai criar uma Newsletter da área Tributária direcionada a Gestores Públicos e Servidores do município de Salvador-BA."
      ],
      "metadata": {
        "id": "ivS4NRPROErK"
      }
    },
    {
      "cell_type": "code",
      "source": [
        "%pip -q install google-genai"
      ],
      "metadata": {
        "id": "UCCbECexLk_h"
      },
      "execution_count": 1,
      "outputs": []
    },
    {
      "cell_type": "code",
      "source": [
        "# Configura a API Key do Google Gemini\n",
        "\n",
        "import os\n",
        "from google.colab import userdata\n",
        "\n",
        "os.environ[\"GOOGLE_API_KEY\"] = userdata.get('GOOGLE_API_KEY')"
      ],
      "metadata": {
        "id": "NfCqHo1tLk8P"
      },
      "execution_count": 2,
      "outputs": []
    },
    {
      "cell_type": "code",
      "source": [
        "# Usaremos o modelo \"Gemini 2.0 flash\" conforme segue.\n",
        "# Para nosso caso de Agentes, instalaremos o ADK."
      ],
      "metadata": {
        "id": "SIu_PleQTjSa"
      },
      "execution_count": 3,
      "outputs": []
    },
    {
      "cell_type": "code",
      "source": [
        "# Instalar Framework de agentes do Google ################################################\n",
        "!pip install -q google-adk"
      ],
      "metadata": {
        "id": "a1eRPalxEnj7"
      },
      "execution_count": 4,
      "outputs": []
    },
    {
      "cell_type": "code",
      "execution_count": 5,
      "metadata": {
        "id": "aePV2bdfDeoW"
      },
      "outputs": [],
      "source": [
        "from google.adk.agents import Agent\n",
        "from google.adk.runners import Runner\n",
        "from google.adk.sessions import InMemorySessionService\n",
        "from google.adk.tools import google_search\n",
        "from google.genai import types  # Para criar conteúdos (Content e Part)\n",
        "from datetime import date\n",
        "import textwrap # Para formatar melhor a saída de texto\n",
        "from IPython.display import display, Markdown # Para exibir texto formatado no Colab\n",
        "import requests # Para fazer requisições HTTP\n",
        "import warnings\n",
        "\n",
        "warnings.filterwarnings(\"ignore\")"
      ]
    },
    {
      "cell_type": "code",
      "source": [
        "# Função auxiliar que envia uma mensagem para um agente via Runner e retorna a resposta final\n",
        "def call_agent(agent: Agent, message_text: str) -> str:\n",
        "    # Cria um serviço de sessão em memória\n",
        "    session_service = InMemorySessionService()\n",
        "    # Cria uma nova sessão (você pode personalizar os IDs conforme necessário)\n",
        "    session = session_service.create_session(app_name=agent.name, user_id=\"user1\", session_id=\"session1\")\n",
        "    # Cria um Runner para o agente\n",
        "    runner = Runner(agent=agent, app_name=agent.name, session_service=session_service)\n",
        "    # Cria o conteúdo da mensagem de entrada\n",
        "    content = types.Content(role=\"user\", parts=[types.Part(text=message_text)])\n",
        "\n",
        "    final_response = \"\"\n",
        "    # Itera assincronamente pelos eventos retornados durante a execução do agente\n",
        "    for event in runner.run(user_id=\"user1\", session_id=\"session1\", new_message=content):\n",
        "        if event.is_final_response():\n",
        "          for part in event.content.parts:\n",
        "            if part.text is not None:\n",
        "              final_response += part.text\n",
        "              final_response += \"\\n\"\n",
        "    return final_response"
      ],
      "metadata": {
        "id": "_xP4lWhsS5ko"
      },
      "execution_count": 6,
      "outputs": []
    },
    {
      "cell_type": "code",
      "source": [
        "# Função auxiliar para exibir texto formatado em Markdown no Colab\n",
        "def to_markdown(text):\n",
        "  text = text.replace('•', '  *')\n",
        "  return Markdown(textwrap.indent(text, '> ', predicate=lambda _: True))"
      ],
      "metadata": {
        "id": "8dosiodaxfFR"
      },
      "execution_count": 7,
      "outputs": []
    },
    {
      "cell_type": "code",
      "source": [
        "##########################################\n",
        "# --- Agente 1: Buscador de Notícias --- #\n",
        "##########################################\n",
        "def agente_buscador(topico, data_de_hoje):\n",
        "\n",
        "    buscador = Agent(\n",
        "        name=\"agente_buscador\",\n",
        "        model=\"gemini-2.0-flash\",\n",
        "        instruction=\"\"\"\n",
        "        Você é um assistente de pesquisa. A sua tarefa é usar a ferramenta de busca do google (google_search)\n",
        "        para recuperar as últimas notícias de lançamentos muito relevantes sobre o tópico abaixo que sempre\n",
        "        deve estar relacionado a assuntos da Área Tributária da cidade de Salvador BA.\n",
        "        Foque em no máximo cinco lançamentos relevantes, com base no impacto econômico e social\n",
        "        que o lançamento pode ter no município em um horizonte de curto e médio prazo.\n",
        "        Se um tema tiver poucas notícias ou aparentar baixo impacto econômico e social, é possível\n",
        "        que ele não seja tão relevante assim e pode ser substituído por outro que tenha mais.\n",
        "        Esses lançamentos relevantes devem ser atuais, de no máximo três meses antes da data de hoje.\n",
        "        \"\"\",\n",
        "        description=\"Agente que busca informações no Google\",\n",
        "        tools=[google_search]\n",
        "    )\n",
        "\n",
        "    entrada_do_agente_buscador = f\"Tópico: {topico}\\nData de hoje: {data_de_hoje}\"\n",
        "\n",
        "    lancamentos = call_agent(buscador, entrada_do_agente_buscador)\n",
        "    return lancamentos"
      ],
      "metadata": {
        "id": "o8bqIfi_DyH8"
      },
      "execution_count": 8,
      "outputs": []
    },
    {
      "cell_type": "code",
      "source": [
        "################################################\n",
        "# --- Agente 2: Planejador de posts --- #\n",
        "################################################\n",
        "def agente_planejador(topico, lancamentos_buscados):\n",
        "    planejador = Agent(\n",
        "        name=\"agente_planejador\",\n",
        "        model=\"gemini-2.0-flash\",\n",
        "        # Inserir as instruções do Agente Planejador #################################################\n",
        "        instruction=\"\"\"\n",
        "        Você é um planejador de conteúdo, especialista em newsletter e relatórios executivos.\n",
        "        Com base na lista de lançamentos mais recentes e relevantes do buscador, você deve:\n",
        "        usar a ferramenta de busca do Google (google_search) para criar um plano sobre\n",
        "        quais são os pontos mais relevantes que poderíamos abordar em uma nwesletter sobre cada um deles.\n",
        "        Você também pode usar o (google_search) para encontrar mais informações sobre os temas e aprofundar.\n",
        "        Ao final, você irá escolher os três temas mais relevantes entre eles com base nas suas pesquisas\n",
        "        e retornar esses temas, seus pontos mais relevantes, e um plano com os assuntos\n",
        "        a serem abordados na newsletter que será escrito posteriormente.\n",
        "        \"\"\",\n",
        "        description=\"Agente que planeja posts\",\n",
        "        tools=[google_search]\n",
        "    )\n",
        "\n",
        "    entrada_do_agente_planejador = f\"Tópico:{topico}\\nLançamentos buscados: {lancamentos_buscados}\"\n",
        "    # Executa o agente\n",
        "    plano_do_post = call_agent(planejador, entrada_do_agente_planejador)\n",
        "    return plano_do_post"
      ],
      "metadata": {
        "id": "y3VO1uo5_ghO"
      },
      "execution_count": 9,
      "outputs": []
    },
    {
      "cell_type": "code",
      "source": [
        "######################################\n",
        "# --- Agente 3: Redator do Post --- #\n",
        "######################################\n",
        "def agente_redator(topico, plano_de_post):\n",
        "    redator = Agent(\n",
        "        name=\"agente_redator\",\n",
        "        model=\"gemini-2.0-flash\",\n",
        "        instruction=\"\"\"\n",
        "            Você é um Redator de estilo jornalístico especializado em criar newsletter e também relatórios\n",
        "            executivos para gestores públicos.\n",
        "            Você escreve newsletter para a SEFAZ PMS, uma Secretaria de Fazenda municipal.\n",
        "            Utilize o tema fornecido no plano de post e os pontos mais relevantes fornecidos e, com base nisso,\n",
        "            escreva um rascunho da newsletter com os três assuntos selecionados.\n",
        "            Essa newsletter deve despertar interesse no leitor, ser informativa,\n",
        "            com linguagem técnica adequada a esse público. Ao final deve deixar uma reflexão.\n",
        "            \"\"\",\n",
        "        description=\"Agente redator de posts engajadores para Instagram\"\n",
        "    )\n",
        "    entrada_do_agente_redator = f\"Tópico: {topico}\\nPlano de post: {plano_de_post}\"\n",
        "    # Executa o agente\n",
        "    rascunho = call_agent(redator, entrada_do_agente_redator)\n",
        "    return rascunho"
      ],
      "metadata": {
        "id": "uOqlg2TRLVh1"
      },
      "execution_count": 10,
      "outputs": []
    },
    {
      "cell_type": "code",
      "source": [
        "##########################################\n",
        "# --- Agente 4: Revisor de Qualidade --- #\n",
        "##########################################\n",
        "def agente_revisor(topico, rascunho_gerado):\n",
        "    revisor = Agent(\n",
        "        name=\"agente_revisor\",\n",
        "        model=\"gemini-2.0-flash\",\n",
        "        instruction=\"\"\"\n",
        "            Você é um Editor e Revisor de Conteúdo meticuloso, especializado em newsletter e relatórios executivos\n",
        "            para gestores públivos com texto jornalístico.\n",
        "            Seu público é composto por gestores públicos, auditores e servidores públicos da área Tributária\n",
        "            com faixa etária entre 30 e 60 anos, por isso use um tom de escrita adequado.\n",
        "            Revise o rascunho da nwesletter com seus três conteúdos verificando clareza, concisão, correção e tom.\n",
        "            Se o rascunho estiver bom, responda apenas 'A sua Newsletter está pronta para publicar!'.\n",
        "            Caso haja problemas, aponte-os e sugira melhorias.\n",
        "            \"\"\",\n",
        "        description=\"Agente revisor de post para redes sociais.\"\n",
        "    )\n",
        "    entrada_do_agente_revisor = f\"Tópico: {topico}\\nRascunho: {rascunho_gerado}\"\n",
        "    # Executa o agente\n",
        "    texto_revisado = call_agent(revisor, entrada_do_agente_revisor)\n",
        "    return texto_revisado"
      ],
      "metadata": {
        "id": "_aTb1SdkLeT6"
      },
      "execution_count": 11,
      "outputs": []
    },
    {
      "cell_type": "code",
      "source": [
        "data_de_hoje = date.today().strftime(\"%d/%m/%Y\")\n",
        "\n",
        "print(\"IA generativa - Criação de Newsletter Tributária 🚀\")\n",
        "\n",
        "# --- Obter o Tópico do Usuário ---\n",
        "topico = input(\n",
        "    \"❓ Digite um TÓPICO que DEVE ser relacionado a área Tributária para obter uma Newsletter direcionada a cidade de Salvador-BA: \"\n",
        "    )\n",
        "\n",
        "# Inserir lógica do sistema de agentes ################################################\n",
        "if not topico:\n",
        "    print(\"Você esqueceu de digitar o tópico!\")\n",
        "else:\n",
        "    print(f\"Maravilha! Vamos então criar o post sobre novidades em {topico}\")\n",
        "\n",
        "    lancamentos_buscados = agente_buscador(topico, data_de_hoje)\n",
        "    print(\"\\n--- 📝 Resultado do Agente 1 (Buscador) ---\\n\")\n",
        "    display(to_markdown(lancamentos_buscados))\n",
        "    print(\"--------------------------------------------------------------\")\n",
        "\n",
        "    plano_de_post = agente_planejador(topico, lancamentos_buscados)\n",
        "    print(\"\\n--- 📝 Resultado do Agente 2 (Planejador) ---\\n\")\n",
        "    display(to_markdown(plano_de_post))\n",
        "    print(\"--------------------------------------------------------------\")\n",
        "\n",
        "    rascunho_de_post = agente_redator(topico, plano_de_post)\n",
        "    print(\"\\n--- 📝 Resultado do Agente 3 (Redator) ---\\n\")\n",
        "    display(to_markdown(rascunho_de_post))\n",
        "    print(\"--------------------------------------------------------------\")\n",
        "\n",
        "    post_final = agente_revisor(topico, rascunho_de_post)\n",
        "    print(\"\\n--- 📝 Resultado do Agente 4 (Revisor) ---\\n\")\n",
        "    display(to_markdown(post_final))\n",
        "    print(\"--------------------------------------------------------------\")"
      ],
      "metadata": {
        "id": "6xzI6LKzxxnN"
      },
      "execution_count": null,
      "outputs": []
    }
  ]
}